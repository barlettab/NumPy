{
 "cells": [
  {
   "cell_type": "markdown",
   "id": "1d0078ac-30a0-480c-8715-86bf2da99909",
   "metadata": {},
   "source": [
    "# Numpy Introduction"
   ]
  },
  {
   "cell_type": "markdown",
   "id": "b62ff852-d6ca-4087-a134-6767acc78a8f",
   "metadata": {},
   "source": [
    "## What is NumPy? "
   ]
  },
  {
   "cell_type": "markdown",
   "id": "33445bb1-9049-4729-8719-7c4d17bd583b",
   "metadata": {},
   "source": [
    "- NumPy or Numerical Python is a Python library used for working with arrays. Arrays are very frequently used in data science, where speed and resources are very important.\n",
    "\n",
    "- It also has functions for working in domain of linear algebra, fourier transform, and matrices.\n",
    "\n",
    "- NumPy is an open source project and you can use it freely."
   ]
  },
  {
   "cell_type": "markdown",
   "id": "62796060-bbf2-4272-8e7c-2801ccc577df",
   "metadata": {},
   "source": [
    "## Why is NumPy Faster Than Lists?"
   ]
  },
  {
   "cell_type": "markdown",
   "id": "ff16d862-3dcd-40fe-8f1e-456262ddae26",
   "metadata": {},
   "source": [
    "NumPy arrays are stored at one continuous place in memory unlike lists, so processes can access and manipulate them very efficiently.\n",
    "\n",
    "This behavior is called locality of reference in computer science.\n",
    "\n",
    "This is the main reason why NumPy is faster than lists. Also it is optimized to work with latest CPU architectures."
   ]
  },
  {
   "cell_type": "markdown",
   "id": "9b11b618-2055-4bbe-90a6-d0ca6f2ea546",
   "metadata": {},
   "source": [
    "## Applications of NumPy\n",
    "- Mathematics\n",
    "- Plotting (Matplotlib)\n",
    "- Backend (Pandas)\n",
    "- Machine Learning "
   ]
  },
  {
   "cell_type": "markdown",
   "id": "228e887d-be4d-4d46-9b2a-c06a6c020abf",
   "metadata": {},
   "source": [
    "## First Example - Initializing an 1D-array \n",
    "\n",
    "NumPy is used to work with arrays. The array object in NumPy is called `ndarray`. We can create a NumPy `ndarray`object using the `array()` function."
   ]
  },
  {
   "cell_type": "code",
   "execution_count": 1,
   "id": "bae48f6a-e744-4eac-9e36-652d6c41ef12",
   "metadata": {},
   "outputs": [
    {
     "name": "stdout",
     "output_type": "stream",
     "text": [
      "[1 2 3 4 5]\n",
      "<class 'numpy.ndarray'>\n"
     ]
    }
   ],
   "source": [
    "import numpy \n",
    "\n",
    "arr = numpy.array([1, 2, 3, 4, 5])\n",
    "print(arr)\n",
    "\n",
    "print(type(arr))"
   ]
  },
  {
   "cell_type": "markdown",
   "id": "58e18997-4b63-4e02-9f7e-5a524af370f9",
   "metadata": {},
   "source": [
    "`Observation:` NumPy is usually imported under the `np` alias. Alias in Python are an alternate name for referring to the same thing."
   ]
  },
  {
   "cell_type": "code",
   "execution_count": 2,
   "id": "27f5013c-5de1-42c5-a967-2ea27fc67732",
   "metadata": {},
   "outputs": [
    {
     "name": "stdout",
     "output_type": "stream",
     "text": [
      "[1 2 3 4 5]\n"
     ]
    }
   ],
   "source": [
    "import numpy as np\n",
    "\n",
    "arr = np.array([1, 2, 3, 4, 5])\n",
    "print(arr)"
   ]
  },
  {
   "cell_type": "markdown",
   "id": "c64a882f-bd9e-4601-93f6-67dd5d01317a",
   "metadata": {},
   "source": [
    "### Checking NumPy Version"
   ]
  },
  {
   "cell_type": "code",
   "execution_count": 3,
   "id": "8a3ad226-6310-4223-af07-4b70585a78f2",
   "metadata": {},
   "outputs": [
    {
     "name": "stdout",
     "output_type": "stream",
     "text": [
      "1.26.4\n"
     ]
    }
   ],
   "source": [
    "print(np.__version__)"
   ]
  },
  {
   "cell_type": "markdown",
   "id": "2b3ffb30-b6e2-4963-b168-12ae1def9954",
   "metadata": {},
   "source": [
    "## 0-D Arrays\n",
    "0-D arrays, or Scalars, are the elements in an array. Each value in an array is a 0-D array."
   ]
  },
  {
   "cell_type": "code",
   "execution_count": 4,
   "id": "d9e7eb15-0111-4e73-ae4d-213a0c29dd91",
   "metadata": {},
   "outputs": [
    {
     "name": "stdout",
     "output_type": "stream",
     "text": [
      "42\n"
     ]
    }
   ],
   "source": [
    "arr = np.array(42)\n",
    "\n",
    "print(arr)"
   ]
  },
  {
   "cell_type": "markdown",
   "id": "7d2201c4-0d1e-46e6-bd50-9a98bd0c234f",
   "metadata": {},
   "source": [
    "## 2-D Arrays"
   ]
  },
  {
   "cell_type": "code",
   "execution_count": 5,
   "id": "4d22285d-a765-4a4e-a5c5-bff4566155f5",
   "metadata": {},
   "outputs": [
    {
     "name": "stdout",
     "output_type": "stream",
     "text": [
      "[[1 2 3]\n",
      " [4 5 6]]\n"
     ]
    }
   ],
   "source": [
    "arr = np.array([[1, 2, 3], [4, 5, 6]])\n",
    "\n",
    "print(arr)"
   ]
  },
  {
   "cell_type": "markdown",
   "id": "ddca0639-e440-47a6-b684-ee635432c624",
   "metadata": {},
   "source": [
    "## 3-D Arrays"
   ]
  },
  {
   "cell_type": "code",
   "execution_count": 6,
   "id": "66a9d456-3110-4319-9be5-cd8436a0544d",
   "metadata": {},
   "outputs": [
    {
     "name": "stdout",
     "output_type": "stream",
     "text": [
      "[[[1 2 3]\n",
      "  [4 5 6]\n",
      "  [7 8 9]]]\n"
     ]
    }
   ],
   "source": [
    "arr = np.array([[[1, 2, 3], [4, 5, 6], [7, 8, 9]]])\n",
    "\n",
    "print(arr)"
   ]
  },
  {
   "cell_type": "markdown",
   "id": "053fc605-afa4-4cd5-bf8c-f767c918b750",
   "metadata": {},
   "source": [
    "## How to Check the Number of Dimensions? \n",
    "NumPy Arrays provides `ndim` attribute that returns an integer that tells us how many dimensions the array have. "
   ]
  },
  {
   "cell_type": "code",
   "execution_count": 7,
   "id": "16f23f7f-9ba2-43fd-a00c-ce066df32f9a",
   "metadata": {},
   "outputs": [
    {
     "name": "stdout",
     "output_type": "stream",
     "text": [
      "0\n",
      "1\n",
      "2\n",
      "3\n"
     ]
    }
   ],
   "source": [
    "a = np.array(42)\n",
    "b = np.array([1, 2, 3, 4, 5])\n",
    "c = np.array([[1, 2, 3], [4, 5, 6]])\n",
    "d = np.array([[[1, 2, 3], [4, 5, 6], [7, 8, 9]]])\n",
    "\n",
    "print(a.ndim)\n",
    "print(b.ndim)\n",
    "print(c.ndim)\n",
    "print(d.ndim)"
   ]
  },
  {
   "cell_type": "markdown",
   "id": "9c053890-b4ba-45e2-8cc0-82fb0c8c0207",
   "metadata": {},
   "source": [
    "## How to Get the Shape?\n",
    "The shape is an attribute in NumPy that returns a tuple representing the dimensions of the array. It describes how many elements are along each dimension (axis) of the array."
   ]
  },
  {
   "cell_type": "code",
   "execution_count": 8,
   "id": "51f44b0a-f740-44e6-83f5-85e6384a7f75",
   "metadata": {},
   "outputs": [
    {
     "name": "stdout",
     "output_type": "stream",
     "text": [
      "()\n",
      "(5,)\n",
      "(2, 3)\n",
      "(1, 3, 3)\n"
     ]
    }
   ],
   "source": [
    "print(a.shape)\n",
    "print(b.shape)\n",
    "print(c.shape)\n",
    "print(d.shape)"
   ]
  },
  {
   "cell_type": "markdown",
   "id": "9026135b-5bb6-4d67-9989-86267a7e21b4",
   "metadata": {},
   "source": [
    "## Reshaping Arrays"
   ]
  },
  {
   "cell_type": "code",
   "execution_count": 9,
   "id": "cc90a6ff-6198-43a3-8435-9191f1c9363f",
   "metadata": {},
   "outputs": [
    {
     "name": "stdout",
     "output_type": "stream",
     "text": [
      "[1 2 3 4 5 6]\n"
     ]
    }
   ],
   "source": [
    "# 2D to 1D \n",
    "arr = np.array([[1, 2, 3], [4, 5, 6]])\n",
    "newarr = arr.reshape(6)\n",
    "print(newarr)"
   ]
  },
  {
   "cell_type": "code",
   "execution_count": 10,
   "id": "81205ab4-3595-47ac-a428-a3c448446b69",
   "metadata": {},
   "outputs": [
    {
     "name": "stdout",
     "output_type": "stream",
     "text": [
      "[[ 1  2  3]\n",
      " [ 4  5  6]\n",
      " [ 7  8  9]\n",
      " [10 11 12]]\n"
     ]
    }
   ],
   "source": [
    "# 1D to 2D\n",
    "arr = np.array([1, 2, 3, 4, 5, 6, 7, 8, 9, 10, 11, 12])\n",
    "\n",
    "newarr = arr.reshape(4, 3)\n",
    "\n",
    "print(newarr)"
   ]
  },
  {
   "cell_type": "code",
   "execution_count": 11,
   "id": "e00ed5c6-3c97-45c5-9f12-b31a323e8a12",
   "metadata": {},
   "outputs": [
    {
     "name": "stdout",
     "output_type": "stream",
     "text": [
      "[[[ 1  2]\n",
      "  [ 3  4]\n",
      "  [ 5  6]]\n",
      "\n",
      " [[ 7  8]\n",
      "  [ 9 10]\n",
      "  [11 12]]]\n"
     ]
    }
   ],
   "source": [
    "# Reshape From 1-D to 3-D\n",
    "arr = np.array([1, 2, 3, 4, 5, 6, 7, 8, 9, 10, 11, 12])\n",
    "\n",
    "newarr = arr.reshape(2, 3, 2)\n",
    "\n",
    "print(newarr)"
   ]
  },
  {
   "cell_type": "markdown",
   "id": "0f04ace4-9864-46a5-9c77-98436d364e03",
   "metadata": {},
   "source": [
    "`Observation:` We can reshape into any shape as long as the elements required for reshaping are equal in both shapes. For example, we can reshape an 8 elements 1D array into 4 elements in 2 rows 2D array but we cannot reshape it into a 3 elements 3 rows 2D array as that would require 3x3 = 9 elements."
   ]
  },
  {
   "cell_type": "code",
   "execution_count": 12,
   "id": "24c16104-6d8a-4b50-8693-cbccfe67e903",
   "metadata": {},
   "outputs": [
    {
     "ename": "ValueError",
     "evalue": "cannot reshape array of size 8 into shape (3,3)",
     "output_type": "error",
     "traceback": [
      "\u001b[1;31m---------------------------------------------------------------------------\u001b[0m",
      "\u001b[1;31mValueError\u001b[0m                                Traceback (most recent call last)",
      "Cell \u001b[1;32mIn[12], line 4\u001b[0m\n\u001b[0;32m      1\u001b[0m \u001b[38;5;66;03m# Error \u001b[39;00m\n\u001b[0;32m      2\u001b[0m arr \u001b[38;5;241m=\u001b[39m np\u001b[38;5;241m.\u001b[39marray([\u001b[38;5;241m1\u001b[39m, \u001b[38;5;241m2\u001b[39m, \u001b[38;5;241m3\u001b[39m, \u001b[38;5;241m4\u001b[39m, \u001b[38;5;241m5\u001b[39m, \u001b[38;5;241m6\u001b[39m, \u001b[38;5;241m7\u001b[39m, \u001b[38;5;241m8\u001b[39m])\n\u001b[1;32m----> 4\u001b[0m newarr \u001b[38;5;241m=\u001b[39m arr\u001b[38;5;241m.\u001b[39mreshape(\u001b[38;5;241m3\u001b[39m, \u001b[38;5;241m3\u001b[39m)\n\u001b[0;32m      6\u001b[0m \u001b[38;5;28mprint\u001b[39m(newarr)\n",
      "\u001b[1;31mValueError\u001b[0m: cannot reshape array of size 8 into shape (3,3)"
     ]
    }
   ],
   "source": [
    "# Error \n",
    "arr = np.array([1, 2, 3, 4, 5, 6, 7, 8])\n",
    "\n",
    "newarr = arr.reshape(3, 3)\n",
    "\n",
    "print(newarr)"
   ]
  },
  {
   "cell_type": "markdown",
   "id": "ffc04021-1395-4d47-ad3b-087736c30a1c",
   "metadata": {},
   "source": [
    "You are allowed to have one \"unknown\" dimension.\n",
    "\n",
    "Meaning that you do not have to specify an exact number for one of the dimensions in the reshape method.\n",
    "\n",
    "Pass `-1` as the value, and NumPy will calculate this number for you."
   ]
  },
  {
   "cell_type": "code",
   "execution_count": 13,
   "id": "a4900523-187c-4ec9-ae3f-54140fafbaca",
   "metadata": {},
   "outputs": [
    {
     "name": "stdout",
     "output_type": "stream",
     "text": [
      "[[[1 2]\n",
      "  [3 4]]\n",
      "\n",
      " [[5 6]\n",
      "  [7 8]]]\n"
     ]
    }
   ],
   "source": [
    "arr = np.array([1, 2, 3, 4, 5, 6, 7, 8])\n",
    "\n",
    "newarr = arr.reshape(2, 2, -1)\n",
    "\n",
    "print(newarr)"
   ]
  },
  {
   "cell_type": "code",
   "execution_count": 14,
   "id": "64a9b562-9db1-406f-a69e-8e0a9c14f577",
   "metadata": {},
   "outputs": [
    {
     "name": "stdout",
     "output_type": "stream",
     "text": [
      "[[[ 1  2  3]\n",
      "  [ 4  5  6]]\n",
      "\n",
      " [[ 7  8  9]\n",
      "  [10 11 12]]]\n",
      "\n",
      "(2, 2, 3)\n"
     ]
    }
   ],
   "source": [
    "arr = np.array([1, 2, 3, 4, 5, 6, 7, 8, 9, 10, 11, 12])\n",
    "\n",
    "newarr = arr.reshape(2, -1, 3)  \n",
    "print(newarr)\n",
    "print()\n",
    "print(newarr.shape)"
   ]
  },
  {
   "cell_type": "markdown",
   "id": "357122e1-78f9-4a88-a53e-4e0b775b3e83",
   "metadata": {},
   "source": [
    "### Flattening the arrays \n",
    "Flattening array means converting a multidimensional array into a 1D array.\n",
    "We can use `reshape(-1)`"
   ]
  },
  {
   "cell_type": "code",
   "execution_count": 15,
   "id": "e5945d23-3be4-4dd8-a8e8-25d5531d86e7",
   "metadata": {},
   "outputs": [
    {
     "name": "stdout",
     "output_type": "stream",
     "text": [
      "[1 2 3 4 5 6]\n"
     ]
    }
   ],
   "source": [
    "arr = np.array([[1, 2, 3], [4, 5, 6]])\n",
    "\n",
    "newarr = arr.reshape(-1)\n",
    "\n",
    "print(newarr)"
   ]
  },
  {
   "cell_type": "markdown",
   "id": "0c76249c-d0b4-4158-9e58-85ea39a9cb00",
   "metadata": {},
   "source": [
    "## Acess Array Elements"
   ]
  },
  {
   "cell_type": "markdown",
   "id": "a5b509ff-51a4-49f3-b02b-aa9f9c8bbc38",
   "metadata": {},
   "source": [
    "### 1-D Array"
   ]
  },
  {
   "cell_type": "code",
   "execution_count": 16,
   "id": "3f3a8aa7-0417-4436-ad43-facf1b9e309c",
   "metadata": {},
   "outputs": [
    {
     "name": "stdout",
     "output_type": "stream",
     "text": [
      "1\n",
      "7\n"
     ]
    }
   ],
   "source": [
    "arr = np.array([1, 2, 3, 4])\n",
    "\n",
    "print(arr[0]) # 1\n",
    "\n",
    "print(arr[2] + arr[3]) # 7"
   ]
  },
  {
   "cell_type": "markdown",
   "id": "2003f90d-0800-405f-bc07-e309a3f1da5a",
   "metadata": {},
   "source": [
    "### 2-D Array\n",
    "Think of 2-D arrays like a table with rows and columns, where the dimension represents the row and the index represents the column."
   ]
  },
  {
   "cell_type": "code",
   "execution_count": 17,
   "id": "9679caa7-9cc5-4bb9-8a6c-ea6f74231559",
   "metadata": {},
   "outputs": [
    {
     "name": "stdout",
     "output_type": "stream",
     "text": [
      "2nd element on 1st row:  2\n"
     ]
    }
   ],
   "source": [
    "arr = np.array([[1, 2, 3, 4, 5], [6, 7, 8, 9, 10]])\n",
    "\n",
    "print('2nd element on 1st row: ', arr[0, 1])"
   ]
  },
  {
   "cell_type": "code",
   "execution_count": 18,
   "id": "23b5eca4-c2ff-477e-b1ea-3176ca754033",
   "metadata": {},
   "outputs": [
    {
     "name": "stdout",
     "output_type": "stream",
     "text": [
      "5th element on 2nd row:  10\n"
     ]
    }
   ],
   "source": [
    "arr = np.array([[1, 2, 3, 4, 5], [6, 7, 8, 9, 10]])\n",
    "\n",
    "print('5th element on 2nd row: ', arr[1, 4])"
   ]
  },
  {
   "cell_type": "markdown",
   "id": "bc406bfc-33a3-4976-8e12-97cf574223c3",
   "metadata": {},
   "source": [
    "### 3-D Array"
   ]
  },
  {
   "cell_type": "code",
   "execution_count": 19,
   "id": "5d2a3a72-d860-4ea3-984d-89fe23afbe67",
   "metadata": {},
   "outputs": [
    {
     "name": "stdout",
     "output_type": "stream",
     "text": [
      "6\n"
     ]
    }
   ],
   "source": [
    "arr = np.array([[[1, 2, 3], [4, 5, 6]], [[7, 8, 9], [10, 11, 12]]])\n",
    "\n",
    "print(arr[0, 1, 2]) "
   ]
  },
  {
   "cell_type": "markdown",
   "id": "2f5c03e5-6688-498d-afba-71fa477e8f4d",
   "metadata": {},
   "source": [
    "#### Let's understand..."
   ]
  },
  {
   "cell_type": "markdown",
   "id": "e18873da-e41b-4654-b5f4-8da496ca7e9e",
   "metadata": {},
   "source": [
    "The `first number` represents the __first dimension__, which contains two arrays:  \n",
    "\n",
    "[[1, 2, 3], [4, 5, 6]]   and  [[7, 8, 9], [10, 11, 12]]"
   ]
  },
  {
   "cell_type": "markdown",
   "id": "d4e1e660-05a1-46bc-97d7-68c170d9fa41",
   "metadata": {},
   "source": [
    "Since we selected `0`, we have:  \n",
    "\n",
    "[[1, 2, 3], [4, 5, 6]]"
   ]
  },
  {
   "cell_type": "markdown",
   "id": "472b5435-db6e-42de-922c-0fe7387b9405",
   "metadata": {},
   "source": [
    "The `second number` represents the __second dimension__, which also contains two arrays:\n",
    "\n",
    "[1, 2, 3] and [4, 5, 6]"
   ]
  },
  {
   "cell_type": "markdown",
   "id": "65351837-c16b-4fe1-9f17-ccdef5bc946a",
   "metadata": {},
   "source": [
    "Since we selected `1`, we have: \n",
    "\n",
    "[4, 5, 6]"
   ]
  },
  {
   "cell_type": "markdown",
   "id": "37718f0a-93ea-445b-8ebf-467cdbb7afc6",
   "metadata": {},
   "source": [
    "The `third number` represents the third dimension, which contains three values: \n",
    "4\n",
    "5 \n",
    "6 "
   ]
  },
  {
   "cell_type": "markdown",
   "id": "44bbe78b-88b3-48f1-aeff-bd48bb3296b3",
   "metadata": {},
   "source": [
    "Since we selected `2`, we end up with the third value: __6__"
   ]
  },
  {
   "cell_type": "markdown",
   "id": "c8b1ea54-cfc0-45b3-a270-4e405037d3b4",
   "metadata": {},
   "source": [
    "### Negative Indexing"
   ]
  },
  {
   "cell_type": "code",
   "execution_count": 20,
   "id": "f43a230c-fbaa-4af9-8d26-17e9da43db5f",
   "metadata": {},
   "outputs": [
    {
     "name": "stdout",
     "output_type": "stream",
     "text": [
      "Last element from 2nd dim:  10\n"
     ]
    }
   ],
   "source": [
    "arr = np.array([[1,2,3,4,5], [6,7,8,9,10]])\n",
    "\n",
    "print('Last element from 2nd dim: ', arr[1, -1])"
   ]
  },
  {
   "cell_type": "markdown",
   "id": "7a73471a-4ea0-4473-99b3-a3a54d2c9f05",
   "metadata": {},
   "source": [
    "## Slicing Arrays"
   ]
  },
  {
   "cell_type": "markdown",
   "id": "ae7d07ac-9ef7-4333-ba30-535f1e46a35f",
   "metadata": {},
   "source": [
    "- Slicing in python means taking elements from one given index to another given index.\n",
    "\n",
    "- We pass slice instead of index like this: `[start:end]`.\n",
    "\n",
    "- We can also define the step, like this: `[start:end:step]`.\n",
    "\n",
    "- If we don't pass start its considered 0\n",
    "\n",
    "- If we don't pass end its considered length of array in that dimension\n",
    "\n",
    "- If we don't pass step its considered 1"
   ]
  },
  {
   "cell_type": "code",
   "execution_count": 21,
   "id": "b3f0cf42-72ac-4e37-b8d4-211556bcb8cb",
   "metadata": {},
   "outputs": [
    {
     "name": "stdout",
     "output_type": "stream",
     "text": [
      "[2 3 4 5]\n"
     ]
    }
   ],
   "source": [
    "arr = np.array([1, 2, 3, 4, 5, 6, 7])\n",
    "\n",
    "print(arr[1:5])"
   ]
  },
  {
   "cell_type": "code",
   "execution_count": 22,
   "id": "77c4e3bc-0250-4cb9-abf6-e4dadeb6d6b7",
   "metadata": {},
   "outputs": [
    {
     "name": "stdout",
     "output_type": "stream",
     "text": [
      "[5 6 7]\n"
     ]
    }
   ],
   "source": [
    "arr = np.array([1, 2, 3, 4, 5, 6, 7])\n",
    "\n",
    "print(arr[4:])"
   ]
  },
  {
   "cell_type": "code",
   "execution_count": 23,
   "id": "61db05da-3676-4fd5-b1a2-fb44e3bb4c4e",
   "metadata": {},
   "outputs": [
    {
     "name": "stdout",
     "output_type": "stream",
     "text": [
      "[1 2 3 4]\n"
     ]
    }
   ],
   "source": [
    "arr = np.array([1, 2, 3, 4, 5, 6, 7])\n",
    "\n",
    "print(arr[:4])"
   ]
  },
  {
   "cell_type": "markdown",
   "id": "ca164226-8142-4cb5-b482-a0c726e278b6",
   "metadata": {},
   "source": [
    "`Observation`: Use the minus operator to refer to an index from the end."
   ]
  },
  {
   "cell_type": "code",
   "execution_count": 24,
   "id": "63bc4d34-3978-4927-82b1-6fc47c60ce32",
   "metadata": {},
   "outputs": [
    {
     "name": "stdout",
     "output_type": "stream",
     "text": [
      "[5 6]\n"
     ]
    }
   ],
   "source": [
    "arr = np.array([1, 2, 3, 4, 5, 6, 7])\n",
    "\n",
    "print(arr[-3:-1])"
   ]
  },
  {
   "cell_type": "markdown",
   "id": "e15e6afd-60da-43de-9f2e-de987e354b45",
   "metadata": {},
   "source": [
    "### Step"
   ]
  },
  {
   "cell_type": "code",
   "execution_count": 25,
   "id": "47dd53a7-ed85-4f7b-9cfa-fc1b927ef3ad",
   "metadata": {},
   "outputs": [
    {
     "name": "stdout",
     "output_type": "stream",
     "text": [
      "[2 4]\n"
     ]
    }
   ],
   "source": [
    "arr = np.array([1, 2, 3, 4, 5, 6, 7])\n",
    "\n",
    "print(arr[1:5:2])"
   ]
  },
  {
   "cell_type": "code",
   "execution_count": 26,
   "id": "859b6945-fba0-4dcf-9f98-1b9cc161bf5b",
   "metadata": {},
   "outputs": [
    {
     "name": "stdout",
     "output_type": "stream",
     "text": [
      "[1 3 5 7]\n"
     ]
    }
   ],
   "source": [
    "arr = np.array([1, 2, 3, 4, 5, 6, 7])\n",
    "\n",
    "print(arr[::2])"
   ]
  },
  {
   "cell_type": "markdown",
   "id": "399f0148-518e-4f3f-93bf-f00ecfa9f25b",
   "metadata": {},
   "source": [
    "### Slicing 2-D Arrays"
   ]
  },
  {
   "cell_type": "code",
   "execution_count": 27,
   "id": "fa4cb552-999a-449d-ac6f-2f045687bfe8",
   "metadata": {},
   "outputs": [
    {
     "name": "stdout",
     "output_type": "stream",
     "text": [
      "[7 8 9]\n"
     ]
    }
   ],
   "source": [
    "arr = np.array([[1, 2, 3, 4, 5], [6, 7, 8, 9, 10]])\n",
    "\n",
    "print(arr[1, 1:4])"
   ]
  },
  {
   "cell_type": "code",
   "execution_count": 28,
   "id": "e5305555-080f-4e2f-9e21-6de0196e770f",
   "metadata": {},
   "outputs": [
    {
     "name": "stdout",
     "output_type": "stream",
     "text": [
      "[3 8]\n"
     ]
    }
   ],
   "source": [
    "# From both elements, return index 2:\n",
    "arr = np.array([[1, 2, 3, 4, 5], [6, 7, 8, 9, 10]])\n",
    "\n",
    "print(arr[0:2, 2])"
   ]
  },
  {
   "cell_type": "code",
   "execution_count": 29,
   "id": "6f289fb5-31b6-4ea3-b947-e873d00c9fe0",
   "metadata": {},
   "outputs": [
    {
     "name": "stdout",
     "output_type": "stream",
     "text": [
      "[[2 3 4]\n",
      " [7 8 9]]\n"
     ]
    }
   ],
   "source": [
    "# From both elements, slice index 1 to index 4 (not included), this will return a 2-D array:\n",
    "arr = np.array([[1, 2, 3, 4, 5], [6, 7, 8, 9, 10]])\n",
    "\n",
    "print(arr[0:2, 1:4])"
   ]
  },
  {
   "cell_type": "markdown",
   "id": "6b12da02-aea7-41a5-8fa6-6dd25b6816dd",
   "metadata": {},
   "source": [
    "## Checking the Data Type of an Array\n",
    "\n",
    "The NumPy array object has a property called `dtype`that returns the data type of the array: "
   ]
  },
  {
   "cell_type": "code",
   "execution_count": 30,
   "id": "7a465829-d098-43e1-a476-a2d6c21adfc6",
   "metadata": {},
   "outputs": [
    {
     "name": "stdout",
     "output_type": "stream",
     "text": [
      "int32\n"
     ]
    }
   ],
   "source": [
    "arr = np.array([1, 2, 3, 4])\n",
    "\n",
    "print(arr.dtype)"
   ]
  },
  {
   "cell_type": "code",
   "execution_count": 31,
   "id": "053a13b5-ea7e-4d62-9a70-73334fe5a59c",
   "metadata": {},
   "outputs": [
    {
     "name": "stdout",
     "output_type": "stream",
     "text": [
      "<U6\n"
     ]
    }
   ],
   "source": [
    "arr = np.array(['apple', 'banana', 'cherry'])\n",
    "\n",
    "print(arr.dtype)"
   ]
  },
  {
   "cell_type": "markdown",
   "id": "972a4649-7575-4607-b129-9e16a06b21a9",
   "metadata": {},
   "source": [
    "## Creating Arrays With a Defined Data Type\n",
    "We use the `array()`function to create arrays, this function cant ake an optional argument: `dtype` that allows us to define the expected data type of the array elements."
   ]
  },
  {
   "cell_type": "code",
   "execution_count": 32,
   "id": "5bcd6341-846d-4fef-a9fa-e07615eff2ea",
   "metadata": {},
   "outputs": [
    {
     "name": "stdout",
     "output_type": "stream",
     "text": [
      "[b'1' b'2' b'3' b'4']\n",
      "|S1\n"
     ]
    }
   ],
   "source": [
    "#Create an array with data type string:\n",
    "arr = np.array([1, 2, 3, 4], dtype='S')\n",
    "\n",
    "print(arr)\n",
    "print(arr.dtype)"
   ]
  },
  {
   "cell_type": "code",
   "execution_count": 33,
   "id": "ec40f148-e5a8-4be2-b5c5-229896dd9e49",
   "metadata": {},
   "outputs": [
    {
     "name": "stdout",
     "output_type": "stream",
     "text": [
      "[1 2 3 4]\n",
      "int32\n"
     ]
    }
   ],
   "source": [
    "#Create an array with data type 4 bytes integer:\n",
    "arr = np.array([1, 2, 3, 4], dtype='i4')\n",
    "\n",
    "print(arr)\n",
    "print(arr.dtype)"
   ]
  },
  {
   "cell_type": "markdown",
   "id": "c1489d53-7d1b-4308-a22c-561f5c42dcd0",
   "metadata": {},
   "source": [
    "## Converting Data Type on Existing Arrays"
   ]
  },
  {
   "cell_type": "markdown",
   "id": "4a536c90-74de-4d5d-89f1-cc5d27fa4816",
   "metadata": {},
   "source": [
    "The best way to change the data type of an existing array, is to make a copy of the array with the `astype()` method.\n",
    "\n",
    "The `astype()` function creates a copy of the array, and allows you to specify the data type as a parameter.\n",
    "\n",
    "The data type can be specified using a string, like 'f' for float, 'i' for integer etc. or you can use the data type directly like float for float and int for integer.'"
   ]
  },
  {
   "cell_type": "code",
   "execution_count": 34,
   "id": "14b2b3d1-1276-4721-a13e-8938db2d9b62",
   "metadata": {},
   "outputs": [
    {
     "name": "stdout",
     "output_type": "stream",
     "text": [
      "[1 2 3]\n",
      "int32\n"
     ]
    }
   ],
   "source": [
    "arr = np.array([1.1, 2.1, 3.1])\n",
    "\n",
    "newarr = arr.astype('i')\n",
    "\n",
    "print(newarr)\n",
    "print(newarr.dtype)"
   ]
  },
  {
   "cell_type": "code",
   "execution_count": 35,
   "id": "637e6fa3-f925-4bea-887b-aca5d84d168b",
   "metadata": {},
   "outputs": [
    {
     "name": "stdout",
     "output_type": "stream",
     "text": [
      "[1 2 3]\n",
      "int32\n"
     ]
    }
   ],
   "source": [
    "arr = np.array([1.1, 2.1, 3.1])\n",
    "\n",
    "newarr = arr.astype(int)\n",
    "\n",
    "print(newarr)\n",
    "print(newarr.dtype)"
   ]
  },
  {
   "cell_type": "code",
   "execution_count": 36,
   "id": "4d878c5a-16f7-4666-94cc-ad2a67081f1b",
   "metadata": {},
   "outputs": [
    {
     "name": "stdout",
     "output_type": "stream",
     "text": [
      "[ True False  True]\n",
      "bool\n"
     ]
    }
   ],
   "source": [
    "arr = np.array([1, 0, 3])\n",
    "\n",
    "newarr = arr.astype(bool)\n",
    "\n",
    "print(newarr)\n",
    "print(newarr.dtype)"
   ]
  },
  {
   "cell_type": "code",
   "execution_count": 37,
   "id": "df2902b5-e355-4c2a-8d1e-2e8ea7fa2cce",
   "metadata": {},
   "outputs": [
    {
     "name": "stdout",
     "output_type": "stream",
     "text": [
      "[ True False  True]\n"
     ]
    }
   ],
   "source": [
    "arr = np.array([-1, 0, 1])\n",
    "newarr = arr.astype(bool)\n",
    "print(newarr)"
   ]
  },
  {
   "cell_type": "markdown",
   "id": "6b35dced-a932-43e4-a67b-c245d1098ca5",
   "metadata": {},
   "source": [
    "## The Difference Between Copy and View\n",
    "\n",
    "The main difference between a copy and a view of an array is that the copy is a new array, and the view is just a view of the original array.\n",
    "\n",
    "The copy owns the data and any changes made to the copy will not affect original array, and any changes made to the original array will not affect the copy.\n",
    "\n",
    "The view does not own the data and any changes made to the view will affect the original array, and any changes made to the original array will affect the view. "
   ]
  },
  {
   "cell_type": "markdown",
   "id": "ced231c5-28e8-465f-a7b7-f7b3c671f656",
   "metadata": {},
   "source": [
    "### COPY - `copy()`"
   ]
  },
  {
   "cell_type": "code",
   "execution_count": 38,
   "id": "853fe3de-e2d5-4d35-83c7-262480b36d16",
   "metadata": {},
   "outputs": [
    {
     "name": "stdout",
     "output_type": "stream",
     "text": [
      "[42  2  3  4  5]\n",
      "[1 2 3 4 5]\n"
     ]
    }
   ],
   "source": [
    "arr = np.array([1, 2, 3, 4, 5])\n",
    "x = arr.copy()\n",
    "arr[0] = 42\n",
    "\n",
    "print(arr)\n",
    "print(x)"
   ]
  },
  {
   "cell_type": "markdown",
   "id": "ce8d3c3d-10eb-4ba9-b36a-3e9192b55cb7",
   "metadata": {},
   "source": [
    "### VIEW - `view()`"
   ]
  },
  {
   "cell_type": "code",
   "execution_count": 39,
   "id": "429c240f-ddad-4cb2-8340-ee9e143854c1",
   "metadata": {},
   "outputs": [
    {
     "name": "stdout",
     "output_type": "stream",
     "text": [
      "[42  2  3  4  5]\n",
      "[42  2  3  4  5]\n"
     ]
    }
   ],
   "source": [
    "arr = np.array([1, 2, 3, 4, 5])\n",
    "x = arr.view()\n",
    "arr[0] = 42\n",
    "\n",
    "print(arr)\n",
    "print(x)"
   ]
  },
  {
   "cell_type": "code",
   "execution_count": 40,
   "id": "f6ebda47-949f-48bf-9051-f2d213612288",
   "metadata": {},
   "outputs": [
    {
     "name": "stdout",
     "output_type": "stream",
     "text": [
      "[31  2  3  4  5]\n",
      "[31  2  3  4  5]\n"
     ]
    }
   ],
   "source": [
    "arr = np.array([1, 2, 3, 4, 5])\n",
    "x = arr.view()\n",
    "x[0] = 31\n",
    "\n",
    "print(arr)\n",
    "print(x)"
   ]
  },
  {
   "cell_type": "markdown",
   "id": "3c4c47de-96da-4a4c-92b6-182bccc538cd",
   "metadata": {},
   "source": [
    "### Check if Array Owns its Data"
   ]
  },
  {
   "cell_type": "markdown",
   "id": "bde6e603-0001-4dde-a213-646b773997d3",
   "metadata": {},
   "source": [
    "As mentioned above, copies owns the data, and views does not own the data, but how can we check this?\n",
    "\n",
    "Every NumPy array has the attribute base that __returns `None` if the array owns the data__.\n",
    "\n",
    "Otherwise, the `base`  attribute refers to the original object."
   ]
  },
  {
   "cell_type": "code",
   "execution_count": 41,
   "id": "1ab4c957-4f21-4d66-933d-49d5961d9900",
   "metadata": {},
   "outputs": [
    {
     "name": "stdout",
     "output_type": "stream",
     "text": [
      "None\n",
      "[1 2 3 4 5]\n"
     ]
    }
   ],
   "source": [
    "arr = np.array([1, 2, 3, 4, 5])\n",
    "\n",
    "x = arr.copy()\n",
    "y = arr.view()\n",
    "\n",
    "print(x.base)\n",
    "print(y.base)"
   ]
  },
  {
   "cell_type": "markdown",
   "id": "f482aeef-c838-464b-be0d-1c5da45a6318",
   "metadata": {},
   "source": [
    "## Iterating Arrays\n",
    "As we deal with multi-dimensional arrays in numpy, we can do this using basic for loop of python."
   ]
  },
  {
   "cell_type": "code",
   "execution_count": 42,
   "id": "63165ad6-cc45-48cf-b8ed-385b78361ef4",
   "metadata": {},
   "outputs": [
    {
     "name": "stdout",
     "output_type": "stream",
     "text": [
      "1\n",
      "2\n",
      "3\n"
     ]
    }
   ],
   "source": [
    "# 1D Array\n",
    "arr = np.array([1, 2, 3])\n",
    "\n",
    "for x in arr:\n",
    "  print(x)"
   ]
  },
  {
   "cell_type": "code",
   "execution_count": 43,
   "id": "918c1ba5-806c-4cc7-b8d1-aaf59671d30b",
   "metadata": {},
   "outputs": [
    {
     "name": "stdout",
     "output_type": "stream",
     "text": [
      "[1 2 3]\n",
      "[4 5 6]\n"
     ]
    }
   ],
   "source": [
    "# 2D Array - printing the matrix\n",
    "arr = np.array([[1, 2, 3], [4, 5, 6]])\n",
    "\n",
    "for x in arr:\n",
    "  print(x)"
   ]
  },
  {
   "cell_type": "code",
   "execution_count": 44,
   "id": "03ff7aa8-348f-4789-884f-64eb916c5beb",
   "metadata": {},
   "outputs": [
    {
     "name": "stdout",
     "output_type": "stream",
     "text": [
      "1\n",
      "2\n",
      "3\n",
      "4\n",
      "5\n",
      "6\n"
     ]
    }
   ],
   "source": [
    "# 2D Array - Returning the scalars\n",
    "# we have to iterate the arrays in each dimension.\n",
    "arr = np.array([[1, 2, 3], [4, 5, 6]])\n",
    "\n",
    "for x in arr:\n",
    "  for y in x:\n",
    "    print(y)"
   ]
  },
  {
   "cell_type": "code",
   "execution_count": 45,
   "id": "3bc39a5b-1966-4980-9c43-b20e2f12d911",
   "metadata": {},
   "outputs": [
    {
     "name": "stdout",
     "output_type": "stream",
     "text": [
      "[[1 2 3]\n",
      " [4 5 6]]\n",
      "[[ 7  8  9]\n",
      " [10 11 12]]\n"
     ]
    }
   ],
   "source": [
    "# 3D Array - printing the matrix\n",
    "\n",
    "arr = np.array([[[1, 2, 3], [4, 5, 6]], [[7, 8, 9], [10, 11, 12]]])\n",
    "\n",
    "for x in arr:\n",
    "  print(x)"
   ]
  },
  {
   "cell_type": "code",
   "execution_count": 46,
   "id": "f5d55cc5-4fcd-423f-9aec-9d9c656be545",
   "metadata": {},
   "outputs": [
    {
     "name": "stdout",
     "output_type": "stream",
     "text": [
      "1\n",
      "2\n",
      "3\n",
      "4\n",
      "5\n",
      "6\n",
      "7\n",
      "8\n",
      "9\n",
      "10\n",
      "11\n",
      "12\n"
     ]
    }
   ],
   "source": [
    "# 3D Array - Returning the scalars\n",
    "# we have to iterate the arrays in each dimension.\n",
    "\n",
    "arr = np.array([[[1, 2, 3], [4, 5, 6]], [[7, 8, 9], [10, 11, 12]]])\n",
    "\n",
    "for x in arr:\n",
    "  for y in x:\n",
    "    for z in y:\n",
    "      print(z)"
   ]
  },
  {
   "cell_type": "markdown",
   "id": "b391e7e4-2d37-4755-a973-141b9db7e87b",
   "metadata": {},
   "source": [
    "## Iterating Arrays Using `nditer()`\n",
    "The function `nditer()`is a helping function that can be used from very basic to very advanced iterations. It solves some basic issues which we face in iteration, lets go through it with examples."
   ]
  },
  {
   "cell_type": "markdown",
   "id": "50d09ada-6b84-4782-af2e-dc21580c5d53",
   "metadata": {},
   "source": [
    "### Iterating on Each Scalar Element\n",
    "In basic `for` loops, iterating through each scalar of an array we need to use _n_ for loops which can be difficult to write for arrays with very high dimensionality."
   ]
  },
  {
   "cell_type": "code",
   "execution_count": 47,
   "id": "71950de4-8dac-4fae-b526-c6259871bf34",
   "metadata": {},
   "outputs": [
    {
     "name": "stdout",
     "output_type": "stream",
     "text": [
      "1\n",
      "2\n",
      "3\n",
      "4\n",
      "5\n",
      "6\n",
      "7\n",
      "8\n"
     ]
    }
   ],
   "source": [
    "arr = np.array([[[1, 2], [3, 4]], [[5, 6], [7, 8]]])\n",
    "\n",
    "for x in np.nditer(arr):\n",
    "  print(x)"
   ]
  },
  {
   "cell_type": "markdown",
   "id": "338eeff9-7da8-4496-9815-558270a3a35a",
   "metadata": {},
   "source": [
    "### Iterating Array With Different Data Types\n",
    "We can use `op_dtypes`argument and pass it the expected datatype to change the datatype of elements while iterating. \n",
    "\n",
    "NumPy does not change the data type of the element in-place (where the element is in array) so it needs some other space to perform this action, that extra space is called buffer, and in order to enable it in `nditer()`we pass `flags['buffered']`"
   ]
  },
  {
   "cell_type": "code",
   "execution_count": 48,
   "id": "7b4da733-44a8-459a-b21c-4bd2a958f4a9",
   "metadata": {},
   "outputs": [
    {
     "name": "stdout",
     "output_type": "stream",
     "text": [
      "b'1'\n",
      "b'2'\n",
      "b'3'\n"
     ]
    }
   ],
   "source": [
    "arr = np.array([1, 2, 3])\n",
    "\n",
    "for x in np.nditer(arr, flags=['buffered'], op_dtypes=['S']):\n",
    "  print(x)"
   ]
  },
  {
   "cell_type": "markdown",
   "id": "9c255790-bf57-4781-ab22-1ccea87400c3",
   "metadata": {},
   "source": [
    "### Iterating With Different Step Size"
   ]
  },
  {
   "cell_type": "code",
   "execution_count": 49,
   "id": "4a8e0301-d093-4ac7-9352-aecd2c1c9331",
   "metadata": {},
   "outputs": [
    {
     "name": "stdout",
     "output_type": "stream",
     "text": [
      "1\n",
      "3\n",
      "5\n",
      "7\n"
     ]
    }
   ],
   "source": [
    "# Iterate through every scalar element of the 2D array skipping 1 element:\n",
    "arr = np.array([[1, 2, 3, 4], [5, 6, 7, 8]])\n",
    "\n",
    "for x in np.nditer(arr[:, ::2]):\n",
    "  print(x)"
   ]
  },
  {
   "cell_type": "markdown",
   "id": "2eaa6ee0-e3b2-4cce-baa5-a565d86fccc7",
   "metadata": {},
   "source": [
    "### Enumerated Iteration Using `ndenumerate()`"
   ]
  },
  {
   "cell_type": "markdown",
   "id": "695fde66-1831-4bd2-afeb-256a23438b7f",
   "metadata": {},
   "source": [
    "Enumeration means mentioning sequence number of somethings one by one. Sometimes we require corresponding index of the element while iterating, the `ndenumerate()` method can be used for those usecases."
   ]
  },
  {
   "cell_type": "code",
   "execution_count": 50,
   "id": "d3f9bbc4-dd8f-40e2-85d8-626b9016697b",
   "metadata": {},
   "outputs": [
    {
     "name": "stdout",
     "output_type": "stream",
     "text": [
      "(0,) 1\n",
      "(1,) 2\n",
      "(2,) 3\n"
     ]
    }
   ],
   "source": [
    "arr = np.array([1, 2, 3])\n",
    "\n",
    "for idx, x in np.ndenumerate(arr):\n",
    "  print(idx, x)"
   ]
  },
  {
   "cell_type": "code",
   "execution_count": 51,
   "id": "ae1c6273-debd-422e-93ca-47995dff1641",
   "metadata": {},
   "outputs": [
    {
     "name": "stdout",
     "output_type": "stream",
     "text": [
      "(0, 0) 1\n",
      "(0, 1) 2\n",
      "(0, 2) 3\n",
      "(0, 3) 4\n",
      "(1, 0) 5\n",
      "(1, 1) 6\n",
      "(1, 2) 7\n",
      "(1, 3) 8\n"
     ]
    }
   ],
   "source": [
    "arr = np.array([[1, 2, 3, 4], [5, 6, 7, 8]])\n",
    "\n",
    "for idx, x in np.ndenumerate(arr):\n",
    "  print(idx, x)"
   ]
  },
  {
   "cell_type": "markdown",
   "id": "516f71e6-9d82-4c1e-b72d-852bac18a42b",
   "metadata": {},
   "source": [
    "## Joining NumPy Arrays \n",
    "\n",
    "Joining means putting contents of two or more arrays in a single array.\n",
    "\n",
    "In SQL we joing tables based on a key, whereas in NumPy we join arrays by axes.\n",
    "We pass a sequence of arrays that we want to join to the `concatenate()`function, along with the axis. If axis is not explicitly passed, it is taken as 0."
   ]
  },
  {
   "cell_type": "code",
   "execution_count": 52,
   "id": "4c1cbd84-d9ef-4f6a-b4c0-21f4e25754e4",
   "metadata": {},
   "outputs": [
    {
     "name": "stdout",
     "output_type": "stream",
     "text": [
      "[1 2 3 4 5 6]\n"
     ]
    }
   ],
   "source": [
    "arr1 = np.array([1, 2, 3])\n",
    "\n",
    "arr2 = np.array([4, 5, 6])\n",
    "\n",
    "arr = np.concatenate((arr1, arr2))\n",
    "\n",
    "print(arr)"
   ]
  },
  {
   "cell_type": "code",
   "execution_count": 53,
   "id": "ca80474d-9b07-4c56-a952-f42cfac3def6",
   "metadata": {},
   "outputs": [
    {
     "name": "stdout",
     "output_type": "stream",
     "text": [
      "[[1 2 5 6]\n",
      " [3 4 7 8]]\n"
     ]
    }
   ],
   "source": [
    "arr1 = np.array([[1, 2], [3, 4]])\n",
    "\n",
    "arr2 = np.array([[5, 6], [7, 8]])\n",
    "\n",
    "arr = np.concatenate((arr1, arr2), axis=1)\n",
    "\n",
    "print(arr)"
   ]
  },
  {
   "cell_type": "code",
   "execution_count": 54,
   "id": "9dd81177-4517-414a-9041-d4aa252568cc",
   "metadata": {},
   "outputs": [
    {
     "name": "stdout",
     "output_type": "stream",
     "text": [
      "[[1 2]\n",
      " [3 4]\n",
      " [5 6]\n",
      " [7 8]]\n"
     ]
    }
   ],
   "source": [
    "arr1 = np.array([[1, 2], [3, 4]])\n",
    "\n",
    "arr2 = np.array([[5, 6], [7, 8]])\n",
    "\n",
    "arr = np.concatenate((arr1, arr2), axis=0)\n",
    "\n",
    "print(arr)"
   ]
  },
  {
   "cell_type": "markdown",
   "id": "3b4639a0-4b62-4dcf-bc3c-a5d74a08e76f",
   "metadata": {},
   "source": [
    "_2D Array:_\n",
    "\n",
    "`axis=0`: Concatenates along the rows (vertically, one below the other).  \n",
    "`axis=1`: Concatenates along the columns (horizontally, side by side)."
   ]
  },
  {
   "cell_type": "markdown",
   "id": "e2a3947e-4449-4f90-9907-e021777fd38b",
   "metadata": {},
   "source": [
    "## Joining Arrays Using Stack Functions\n",
    "\n",
    "Stacking is same as concatenation, __the only difference is that stacking is done along a new axis__. We can concatenate two 1-D arrays along the second axis which would result in putting them one over the other, ie. stacking. We pass a sequence of arrays that we want to join to the `stack()` method along with the axis. If axis is not explicitly passed it is taken as 0."
   ]
  },
  {
   "cell_type": "code",
   "execution_count": 55,
   "id": "737d91fd-4916-43c0-98cb-b07def286142",
   "metadata": {},
   "outputs": [
    {
     "name": "stdout",
     "output_type": "stream",
     "text": [
      "[[1 4]\n",
      " [2 5]\n",
      " [3 6]]\n"
     ]
    }
   ],
   "source": [
    "arr1 = np.array([1, 2, 3])\n",
    "\n",
    "arr2 = np.array([4, 5, 6])\n",
    "\n",
    "arr = np.stack((arr1, arr2), axis=1)\n",
    "\n",
    "print(arr)"
   ]
  },
  {
   "cell_type": "code",
   "execution_count": 56,
   "id": "9e72ddf0-3b5c-4ab0-babf-28c48e556339",
   "metadata": {},
   "outputs": [
    {
     "name": "stdout",
     "output_type": "stream",
     "text": [
      "[[1 2 3]\n",
      " [4 5 6]]\n"
     ]
    }
   ],
   "source": [
    "arr1 = np.array([1, 2, 3])\n",
    "\n",
    "arr2 = np.array([4, 5, 6])\n",
    "\n",
    "arr = np.stack((arr1, arr2), axis=0)\n",
    "\n",
    "print(arr)"
   ]
  },
  {
   "cell_type": "markdown",
   "id": "c83e5738-6fb9-426d-9c40-49ce141d12a6",
   "metadata": {},
   "source": [
    "### Stacking Along Rows - `hstack()`\n",
    "\n"
   ]
  },
  {
   "cell_type": "code",
   "execution_count": 57,
   "id": "a5dc957c-0e3e-41a5-b0c2-92190392a4e5",
   "metadata": {},
   "outputs": [
    {
     "name": "stdout",
     "output_type": "stream",
     "text": [
      "[1 2 3 4 5 6]\n"
     ]
    }
   ],
   "source": [
    "arr1 = np.array([1, 2, 3])\n",
    "\n",
    "arr2 = np.array([4, 5, 6])\n",
    "\n",
    "arr = np.hstack((arr1, arr2))\n",
    "\n",
    "print(arr)"
   ]
  },
  {
   "cell_type": "markdown",
   "id": "4215f2da-ad1a-4903-8719-6beba7acf192",
   "metadata": {},
   "source": [
    "### Stacking Along Columns - `vstack()`"
   ]
  },
  {
   "cell_type": "code",
   "execution_count": 58,
   "id": "ec9b91f6-bab6-478e-a780-a7524d6b1d10",
   "metadata": {},
   "outputs": [
    {
     "name": "stdout",
     "output_type": "stream",
     "text": [
      "[[1 2 3]\n",
      " [4 5 6]]\n"
     ]
    }
   ],
   "source": [
    "arr1 = np.array([1, 2, 3])\n",
    "\n",
    "arr2 = np.array([4, 5, 6])\n",
    "\n",
    "arr = np.vstack((arr1, arr2))\n",
    "\n",
    "print(arr)"
   ]
  },
  {
   "cell_type": "markdown",
   "id": "3c191a39-119e-43ed-8651-0f78f3e765ba",
   "metadata": {},
   "source": [
    "### Stacking Along Height (depth) - `dstack()`"
   ]
  },
  {
   "cell_type": "code",
   "execution_count": 59,
   "id": "28069d72-1774-40fb-96db-cbadaf356199",
   "metadata": {},
   "outputs": [
    {
     "name": "stdout",
     "output_type": "stream",
     "text": [
      "[[[1 4]\n",
      "  [2 5]\n",
      "  [3 6]]]\n"
     ]
    }
   ],
   "source": [
    "arr1 = np.array([1, 2, 3])\n",
    "\n",
    "arr2 = np.array([4, 5, 6])\n",
    "\n",
    "arr = np.dstack((arr1, arr2))\n",
    "\n",
    "print(arr)"
   ]
  },
  {
   "cell_type": "markdown",
   "id": "f2686d6d-659e-443e-9e40-664801ddc774",
   "metadata": {},
   "source": [
    "## Splitting NumPy Arrays\n",
    "\n",
    "__Splitting is reverse operation of Joining__. Joining merges multiple arrays into one and Splitting breaks one array into multiple. We use `array_split()` for splitting arrays, we pass it the array we want to split and the number of splits."
   ]
  },
  {
   "cell_type": "code",
   "execution_count": 60,
   "id": "6dec3f9d-0966-4527-ad34-cc6884c61c11",
   "metadata": {},
   "outputs": [
    {
     "name": "stdout",
     "output_type": "stream",
     "text": [
      "[array([1, 2]), array([3, 4]), array([5, 6])]\n"
     ]
    }
   ],
   "source": [
    "#Split the array in 3 parts:\n",
    "\n",
    "arr = np.array([1, 2, 3, 4, 5, 6])\n",
    "newarr = np.array_split(arr, 3)\n",
    "print(newarr)"
   ]
  },
  {
   "cell_type": "markdown",
   "id": "fb1e678e-f408-4e2c-9330-13aef09846b8",
   "metadata": {},
   "source": [
    "`Observation:` If the array has less elements than required, it will adjust from the end accordingly."
   ]
  },
  {
   "cell_type": "code",
   "execution_count": 61,
   "id": "a64f2f47-debb-4552-90f2-3e72b62ac6e7",
   "metadata": {},
   "outputs": [
    {
     "name": "stdout",
     "output_type": "stream",
     "text": [
      "[array([1, 2]), array([3, 4]), array([5]), array([6])]\n"
     ]
    }
   ],
   "source": [
    "# Split the array in 4 parts:\n",
    "\n",
    "arr = np.array([1, 2, 3, 4, 5, 6])\n",
    "newarr = np.array_split(arr, 4)\n",
    "print(newarr)"
   ]
  },
  {
   "cell_type": "code",
   "execution_count": 62,
   "id": "e7f5aad0-06dd-4919-b264-b01a24cb8a5d",
   "metadata": {},
   "outputs": [
    {
     "name": "stdout",
     "output_type": "stream",
     "text": [
      "[1 2]\n"
     ]
    }
   ],
   "source": [
    "arr = np.array([1, 2, 3, 4, 5, 6])\n",
    "newarr = np.array_split(arr, 3)\n",
    "print(newarr[0])"
   ]
  },
  {
   "cell_type": "code",
   "execution_count": 63,
   "id": "95ebb4ff-f7e6-410b-846b-4972a0130d20",
   "metadata": {},
   "outputs": [
    {
     "name": "stdout",
     "output_type": "stream",
     "text": [
      "[array(['a'], dtype='<U1'), array(['b'], dtype='<U1'), array(['c'], dtype='<U1')]\n"
     ]
    }
   ],
   "source": [
    "arr = np.array(['a', 'b', 'c'])\n",
    "newarr = np.array_split(arr, 3)\n",
    "print(newarr)"
   ]
  },
  {
   "cell_type": "markdown",
   "id": "470a54f9-694e-4c06-a419-6c096fc1d7b4",
   "metadata": {},
   "source": [
    "### Splitting 2D Arrays"
   ]
  },
  {
   "cell_type": "code",
   "execution_count": 64,
   "id": "7474d496-5c1d-4145-b042-7f6e37959442",
   "metadata": {},
   "outputs": [
    {
     "name": "stdout",
     "output_type": "stream",
     "text": [
      "[array([[1, 2],\n",
      "       [3, 4]]), array([[5, 6],\n",
      "       [7, 8]]), array([[ 9, 10],\n",
      "       [11, 12]])]\n"
     ]
    }
   ],
   "source": [
    "arr = np.array([[1, 2], [3, 4], [5, 6], [7, 8], [9, 10], [11, 12]])\n",
    "newarr = np.array_split(arr, 3)\n",
    "\n",
    "# This example returns three 2-D arrays.\n",
    "print(newarr)"
   ]
  },
  {
   "cell_type": "code",
   "execution_count": 65,
   "id": "d2f7ba33-d415-4180-b80b-6dc990eb14fc",
   "metadata": {},
   "outputs": [
    {
     "name": "stdout",
     "output_type": "stream",
     "text": [
      "[array([[1, 2, 3],\n",
      "       [4, 5, 6]]), array([[ 7,  8,  9],\n",
      "       [10, 11, 12]]), array([[13, 14, 15],\n",
      "       [16, 17, 18]])]\n"
     ]
    }
   ],
   "source": [
    "# Split the 2-D array into three 2-D arrays\n",
    "arr = np.array([[1, 2, 3], [4, 5, 6], [7, 8, 9], [10, 11, 12], [13, 14, 15], [16, 17, 18]])\n",
    "newarr = np.array_split(arr, 3)\n",
    "\n",
    "print(newarr)"
   ]
  },
  {
   "cell_type": "markdown",
   "id": "8c18a9fd-afdb-441c-8e88-e4b48fe8d23d",
   "metadata": {},
   "source": [
    "You can specify which axis you want to do the split around:"
   ]
  },
  {
   "cell_type": "markdown",
   "id": "29446f4f-b3f4-45d6-92fc-72260678d390",
   "metadata": {},
   "source": [
    "The example below also returns three 2-D arrays, but they are split along the row (axis=1)."
   ]
  },
  {
   "cell_type": "code",
   "execution_count": 66,
   "id": "a54f3e26-ec28-4c67-8b77-5178e66d1e61",
   "metadata": {},
   "outputs": [
    {
     "name": "stdout",
     "output_type": "stream",
     "text": [
      "[array([[ 1],\n",
      "       [ 4],\n",
      "       [ 7],\n",
      "       [10],\n",
      "       [13],\n",
      "       [16]]), array([[ 2],\n",
      "       [ 5],\n",
      "       [ 8],\n",
      "       [11],\n",
      "       [14],\n",
      "       [17]]), array([[ 3],\n",
      "       [ 6],\n",
      "       [ 9],\n",
      "       [12],\n",
      "       [15],\n",
      "       [18]])]\n"
     ]
    }
   ],
   "source": [
    "arr = np.array([[1, 2, 3], [4, 5, 6], [7, 8, 9], [10, 11, 12], [13, 14, 15], [16, 17, 18]])\n",
    "newarr = np.array_split(arr, 3, axis=1)\n",
    "\n",
    "print(newarr)"
   ]
  },
  {
   "cell_type": "code",
   "execution_count": 67,
   "id": "e017a72d-e810-4871-85e3-a1b538d52850",
   "metadata": {},
   "outputs": [
    {
     "name": "stdout",
     "output_type": "stream",
     "text": [
      "[array([[ 1],\n",
      "       [ 4],\n",
      "       [ 7],\n",
      "       [10],\n",
      "       [13],\n",
      "       [16]]), array([[ 2],\n",
      "       [ 5],\n",
      "       [ 8],\n",
      "       [11],\n",
      "       [14],\n",
      "       [17]]), array([[ 3],\n",
      "       [ 6],\n",
      "       [ 9],\n",
      "       [12],\n",
      "       [15],\n",
      "       [18]])]\n"
     ]
    }
   ],
   "source": [
    "arr = np.array([[1, 2, 3], [4, 5, 6], [7, 8, 9], [10, 11, 12], [13, 14, 15], [16, 17, 18]])\n",
    "\n",
    "newarr = np.hsplit(arr, 3)\n",
    "\n",
    "print(newarr)"
   ]
  },
  {
   "cell_type": "markdown",
   "id": "a62d1d3d-5bce-4ab4-9bdf-d97ef26cb627",
   "metadata": {},
   "source": [
    "## Searching Arrays\n",
    "You can search an array for a certain value, and __return the indexes that get a match__. To search an array, use the `where()` method."
   ]
  },
  {
   "cell_type": "code",
   "execution_count": 68,
   "id": "b2d1183f-1be4-4b13-90f9-d203eddfd95f",
   "metadata": {},
   "outputs": [
    {
     "name": "stdout",
     "output_type": "stream",
     "text": [
      "(array([3, 5, 6], dtype=int64),)\n"
     ]
    }
   ],
   "source": [
    "arr = np.array([1, 2, 3, 4, 5, 4, 4])\n",
    "x = np.where(arr == 4)\n",
    "\n",
    "print(x)"
   ]
  },
  {
   "cell_type": "code",
   "execution_count": 69,
   "id": "b0143d8a-2624-403e-8d55-c371c07598e8",
   "metadata": {},
   "outputs": [
    {
     "name": "stdout",
     "output_type": "stream",
     "text": [
      "(array([1, 3, 5, 7], dtype=int64),)\n"
     ]
    }
   ],
   "source": [
    "arr = np.array([1, 2, 3, 4, 5, 6, 7, 8])\n",
    "x = np.where(arr%2 == 0) # even numbers\n",
    "\n",
    "print(x)"
   ]
  },
  {
   "cell_type": "code",
   "execution_count": 70,
   "id": "9fdc9cc1-6a40-4ee9-9941-bdcd72a8663a",
   "metadata": {},
   "outputs": [
    {
     "name": "stdout",
     "output_type": "stream",
     "text": [
      "(array([0, 2, 4, 6], dtype=int64),)\n"
     ]
    }
   ],
   "source": [
    "arr = np.array([1, 2, 3, 4, 5, 6, 7, 8])\n",
    "x = np.where(arr%2 == 1) # odd numbers\n",
    "\n",
    "print(x)"
   ]
  },
  {
   "cell_type": "markdown",
   "id": "9dbefa7a-168f-4250-bf9e-eac25ce7583c",
   "metadata": {},
   "source": [
    "### Search Sorted - `searchsorted()`\n",
    "\n",
    "There is a method called `searchsorted()` which performs a binary search in the array, and returns the index where the specified value would be inserted to maintain the search order.\n",
    "\n",
    "- can be used to find where specifed elements belong in the array."
   ]
  },
  {
   "cell_type": "code",
   "execution_count": 71,
   "id": "a18da2b3-85f7-4f91-95b1-c45aa6594a9d",
   "metadata": {},
   "outputs": [
    {
     "name": "stdout",
     "output_type": "stream",
     "text": [
      "1\n"
     ]
    }
   ],
   "source": [
    "#Find the indexes where the value 7 should be inserted\n",
    "arr = np.array([6, 7, 8, 9])\n",
    "x = np.searchsorted(arr, 7)\n",
    "\n",
    "print(x)"
   ]
  },
  {
   "cell_type": "markdown",
   "id": "538b52ab-5af4-472c-9b4e-a3c308226171",
   "metadata": {},
   "source": [
    " The number 7 should be inserted on index 1 to remain the sort order. The method starts the search from the left and returns the first index where the number 7 is no longer larger than the next value."
   ]
  },
  {
   "cell_type": "markdown",
   "id": "9015bb63-e547-4686-9207-25defe6f00a8",
   "metadata": {},
   "source": [
    "By default the left most index is returned, but we can give `side='right'` to return the right most index instead."
   ]
  },
  {
   "cell_type": "code",
   "execution_count": 72,
   "id": "97c164b6-278f-4120-8b2b-c17945682f47",
   "metadata": {},
   "outputs": [
    {
     "name": "stdout",
     "output_type": "stream",
     "text": [
      "2\n"
     ]
    }
   ],
   "source": [
    "arr = np.array([6, 7, 8, 9])\n",
    "x = np.searchsorted(arr, 7, side='right')\n",
    "\n",
    "print(x)"
   ]
  },
  {
   "cell_type": "markdown",
   "id": "eca9f1ec-c0da-4360-8ad5-1a2ac32cc026",
   "metadata": {},
   "source": [
    "The number 7 should be inserted on index 2 to remain the sort order.\n",
    "\n",
    "The method starts the search from the right and returns the first index where the number 7 is no longer less than the next value."
   ]
  },
  {
   "cell_type": "markdown",
   "id": "3b495776-e7ac-4144-ae98-394a4535ca70",
   "metadata": {},
   "source": [
    "### Multiples Values"
   ]
  },
  {
   "cell_type": "code",
   "execution_count": 73,
   "id": "1d886c71-fc9b-477e-ba3b-b121e0af309f",
   "metadata": {},
   "outputs": [
    {
     "name": "stdout",
     "output_type": "stream",
     "text": [
      "[1 2 3]\n"
     ]
    }
   ],
   "source": [
    "# Find the indexes where the values 2, 4, and 6 should be inserted\n",
    "arr = np.array([1, 3, 5, 7])\n",
    "x = np.searchsorted(arr, [2, 4, 6])\n",
    "\n",
    "print(x)"
   ]
  },
  {
   "cell_type": "markdown",
   "id": "87289c6e-9aa0-46a3-b4d8-4eb1f3394286",
   "metadata": {},
   "source": [
    "## Sorting Arrays"
   ]
  },
  {
   "cell_type": "markdown",
   "id": "f057361c-2bd5-4706-807a-84c0a6f12093",
   "metadata": {},
   "source": [
    "Sorting means putting elements in an ordered sequence. Ordered sequence is any sequence thata has an order corresponding to elements, like numeric or alphabetical, ascending or descending. \n",
    "\n",
    "* The NumPy ndarray object has a function called `sort()`, that will sort a specified array."
   ]
  },
  {
   "cell_type": "code",
   "execution_count": 74,
   "id": "9dfc549c-01fa-45ef-9fbb-49e9cd286de3",
   "metadata": {},
   "outputs": [
    {
     "name": "stdout",
     "output_type": "stream",
     "text": [
      "[0 1 2 3]\n"
     ]
    }
   ],
   "source": [
    "arr = np.array([3, 2, 0, 1])\n",
    "print(np.sort(arr))"
   ]
  },
  {
   "cell_type": "markdown",
   "id": "88a48bea-41a9-4ec2-bf2c-ade06a344977",
   "metadata": {},
   "source": [
    "`Observation:` This method returns a copy of the array, leaving the original array unchanged."
   ]
  },
  {
   "cell_type": "code",
   "execution_count": 75,
   "id": "eae56770-4858-4c10-b15c-917c10d30da5",
   "metadata": {},
   "outputs": [
    {
     "name": "stdout",
     "output_type": "stream",
     "text": [
      "[3 2 0 1]\n"
     ]
    }
   ],
   "source": [
    "print(arr)"
   ]
  },
  {
   "cell_type": "code",
   "execution_count": 76,
   "id": "a7a1bf24-4986-41ed-a582-72eaadd63f64",
   "metadata": {},
   "outputs": [
    {
     "name": "stdout",
     "output_type": "stream",
     "text": [
      "['apple' 'banana' 'cherry']\n"
     ]
    }
   ],
   "source": [
    "arr = np.array(['banana', 'cherry', 'apple'])\n",
    "print(np.sort(arr))"
   ]
  },
  {
   "cell_type": "code",
   "execution_count": 77,
   "id": "9d675ff9-d850-413e-83e3-50ce2d25c178",
   "metadata": {},
   "outputs": [
    {
     "name": "stdout",
     "output_type": "stream",
     "text": [
      "[False  True  True]\n"
     ]
    }
   ],
   "source": [
    "arr = np.array([True, False, True])\n",
    "print(np.sort(arr))"
   ]
  },
  {
   "cell_type": "code",
   "execution_count": 78,
   "id": "a09aae99-7779-4341-922b-eb2de323fbfc",
   "metadata": {},
   "outputs": [
    {
     "name": "stdout",
     "output_type": "stream",
     "text": [
      "[[2 3 4]\n",
      " [0 1 5]]\n"
     ]
    }
   ],
   "source": [
    "arr = np.array([[3, 2, 4], [5, 0, 1]])\n",
    "print(np.sort(arr))"
   ]
  },
  {
   "cell_type": "markdown",
   "id": "7a48ee26-76c8-44e4-b541-d988bb21f2d2",
   "metadata": {},
   "source": [
    "## Filtering Arrays"
   ]
  },
  {
   "cell_type": "markdown",
   "id": "ff1d76b6-d752-4f6b-bb3d-0dd5d9c4e160",
   "metadata": {},
   "source": [
    "Getting some elements out of an existing array and creating a new array out of them is called filtering. In NumPy, we filter an array using a boolean index list.\n",
    "\n",
    "* A boolean index list is a list of booleans corresponding to indexes in the array.\n",
    "* If the value at an index is True that element is contained in the filtered array, if the value at that index is False that element is excluded from the filtered array."
   ]
  },
  {
   "cell_type": "code",
   "execution_count": 79,
   "id": "06c28541-332d-439d-b470-e2c79d366472",
   "metadata": {},
   "outputs": [
    {
     "name": "stdout",
     "output_type": "stream",
     "text": [
      "[41 43]\n"
     ]
    }
   ],
   "source": [
    "arr = np.array([41, 42, 43, 44])\n",
    "\n",
    "x = [True, False, True, False]\n",
    "newarr = arr[x]\n",
    "print(newarr)"
   ]
  },
  {
   "cell_type": "markdown",
   "id": "c676a66f-796b-4c5e-a56b-bc56cf9cdc5e",
   "metadata": {},
   "source": [
    "### Creating the Filter Array"
   ]
  },
  {
   "cell_type": "code",
   "execution_count": 80,
   "id": "7fb58e2b-41e2-4f5d-be1e-6f9e8f2a3cdd",
   "metadata": {},
   "outputs": [
    {
     "name": "stdout",
     "output_type": "stream",
     "text": [
      "[False, False, True, True]\n",
      "[43 44]\n"
     ]
    }
   ],
   "source": [
    "arr = np.array([41, 42, 43, 44])\n",
    "\n",
    "# Create an empty list\n",
    "filter_arr = []\n",
    "\n",
    "# go through each element in arr\n",
    "for element in arr:\n",
    "  # if the element is higher than 42, set the value to True, otherwise False:\n",
    "  if element > 42:\n",
    "    filter_arr.append(True)\n",
    "  else:\n",
    "    filter_arr.append(False)\n",
    "\n",
    "newarr = arr[filter_arr]\n",
    "\n",
    "print(filter_arr)\n",
    "print(newarr)"
   ]
  },
  {
   "cell_type": "markdown",
   "id": "47179fc6-426f-48f0-abfa-5a12e56616e1",
   "metadata": {},
   "source": [
    "#### Creating a Filter Directly From Array"
   ]
  },
  {
   "cell_type": "code",
   "execution_count": 81,
   "id": "167e6d43-8e25-4984-b604-0b86829000a7",
   "metadata": {},
   "outputs": [
    {
     "name": "stdout",
     "output_type": "stream",
     "text": [
      "[False False  True  True]\n",
      "[43 44]\n"
     ]
    }
   ],
   "source": [
    "\n",
    "arr = np.array([41, 42, 43, 44])\n",
    "\n",
    "filter_arr = arr > 42\n",
    "\n",
    "newarr = arr[filter_arr]\n",
    "\n",
    "print(filter_arr)\n",
    "print(newarr)"
   ]
  },
  {
   "cell_type": "code",
   "execution_count": 82,
   "id": "43feb3cb-d54d-4544-8547-28e55bcec733",
   "metadata": {},
   "outputs": [
    {
     "name": "stdout",
     "output_type": "stream",
     "text": [
      "[False  True False  True False  True False]\n",
      "[2 4 6]\n"
     ]
    }
   ],
   "source": [
    "arr = np.array([1, 2, 3, 4, 5, 6, 7])\n",
    "\n",
    "filter_arr = arr % 2 == 0\n",
    "\n",
    "newarr = arr[filter_arr]\n",
    "\n",
    "print(filter_arr)\n",
    "print(newarr)"
   ]
  },
  {
   "cell_type": "code",
   "execution_count": null,
   "id": "4d2c6c76-3553-4699-aa6a-764821ee0fee",
   "metadata": {},
   "outputs": [],
   "source": []
  }
 ],
 "metadata": {
  "kernelspec": {
   "display_name": "Python 3 (ipykernel)",
   "language": "python",
   "name": "python3"
  },
  "language_info": {
   "codemirror_mode": {
    "name": "ipython",
    "version": 3
   },
   "file_extension": ".py",
   "mimetype": "text/x-python",
   "name": "python",
   "nbconvert_exporter": "python",
   "pygments_lexer": "ipython3",
   "version": "3.12.4"
  }
 },
 "nbformat": 4,
 "nbformat_minor": 5
}
